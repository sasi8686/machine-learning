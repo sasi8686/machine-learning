{
 "cells": [
  {
   "cell_type": "code",
   "execution_count": 1,
   "metadata": {},
   "outputs": [],
   "source": [
    "import numpy as np\n",
    "import pandas as pd\n",
    "import matplotlib.pyplot as plt"
   ]
  },
  {
   "cell_type": "markdown",
   "metadata": {},
   "source": [
    "# creating x and y values"
   ]
  },
  {
   "cell_type": "code",
   "execution_count": 2,
   "metadata": {},
   "outputs": [
    {
     "data": {
      "text/plain": [
       "array([6, 4, 5, 1, 7, 7, 9, 6, 2, 8, 2, 4, 7, 7, 6, 9, 9, 1, 1, 6, 9, 5,\n",
       "       4, 8, 9, 5, 6, 8, 5, 6, 3, 3, 6, 0, 7, 0, 8, 1, 6, 2])"
      ]
     },
     "execution_count": 2,
     "metadata": {},
     "output_type": "execute_result"
    }
   ],
   "source": [
    "x=np.random.randint(0,10,40)\n",
    "x"
   ]
  },
  {
   "cell_type": "markdown",
   "metadata": {},
   "source": [
    "# creating y values using x values by using the line formula "
   ]
  },
  {
   "cell_type": "code",
   "execution_count": 4,
   "metadata": {},
   "outputs": [
    {
     "data": {
      "text/plain": [
       "array([37, 27, 32, 12, 42, 42, 52, 37, 17, 47, 17, 27, 42, 42, 37, 52, 52,\n",
       "       12, 12, 37, 52, 32, 27, 47, 52, 32, 37, 47, 32, 37, 22, 22, 37,  7,\n",
       "       42,  7, 47, 12, 37, 17])"
      ]
     },
     "execution_count": 4,
     "metadata": {},
     "output_type": "execute_result"
    }
   ],
   "source": [
    "# assume the m and c values\n",
    "m=5\n",
    "c=7\n",
    "y=(m*x)+c\n",
    "y"
   ]
  },
  {
   "cell_type": "code",
   "execution_count": 6,
   "metadata": {},
   "outputs": [
    {
     "data": {
      "text/plain": [
       "[<matplotlib.lines.Line2D at 0x1a7530d3438>]"
      ]
     },
     "execution_count": 6,
     "metadata": {},
     "output_type": "execute_result"
    },
    {
     "data": {
      "image/png": "[encoded data removed]",
      "text/plain": [
       "<Figure size 432x288 with 1 Axes>"
      ]
     },
     "metadata": {
      "needs_background": "light"
     },
     "output_type": "display_data"
    }
   ],
   "source": [
    "# now we can see the line diagram by using x and y values using matplotlib\n",
    "plt.plot(x,y)\n",
    "plt.plot(x,y,'ro')"
   ]
  },
  {
   "cell_type": "code",
   "execution_count": 9,
   "metadata": {},
   "outputs": [
    {
     "data": {
      "text/plain": [
       "array([32, 32, 37,  7, 47, 47, 47, 37, 22, 42, 17, 22, 47, 37, 42, 52, 57,\n",
       "        7, 17, 32, 52, 37, 27, 47, 47, 32, 42, 52, 27, 42, 27, 17, 42,  2,\n",
       "       47,  7, 42, 12, 32, 22])"
      ]
     },
     "execution_count": 9,
     "metadata": {},
     "output_type": "execute_result"
    }
   ],
   "source": [
    "# since the line is pefect.we will add some noise.\n",
    "y_noise=m*(x+np.random.randint(-1,2,40))+c\n",
    "y_noise"
   ]
  },
  {
   "cell_type": "code",
   "execution_count": 12,
   "metadata": {},
   "outputs": [
    {
     "data": {
      "text/plain": [
       "[<matplotlib.lines.Line2D at 0x1a7536977b8>]"
      ]
     },
     "execution_count": 12,
     "metadata": {},
     "output_type": "execute_result"
    },
    {
     "data": {
      "image/png": "[encoded data removed]",
      "text/plain": [
       "<Figure size 432x288 with 1 Axes>"
      ]
     },
     "metadata": {
      "needs_background": "light"
     },
     "output_type": "display_data"
    }
   ],
   "source": [
    "plt.plot(x,y_noise,'bo')"
   ]
  },
  {
   "cell_type": "markdown",
   "metadata": {},
   "source": [
    "## we can see in the above graph that the values are scattered along the line.now we will write a linear regression program which will fit the above points with minimum error"
   ]
  },
  {
   "cell_type": "markdown",
   "metadata": {},
   "source": [
    "## steps for linear regression gradient descent\n",
    "#step 1:\n",
    "  let us assume random m and c values\n",
    "  m=8\n",
    "  c=10\n",
    "step2:\n",
    "   find the new y_predicted value\n",
    "   y_pred=m*x+c\n",
    "step3:\n",
    "   now find the error between actual line and predicted line\n",
    "   error=(y_pred-y)\n",
    "   \n",
    "   total error for every point of y_pred and y values\n",
    "   mse(mean square error)=(sigma(y_pred-y)^2)/len(y)\n",
    "step4:\n",
    "   we will use gradient descent formula to minimize the error\n",
    "   new_slope=previous_slope - (learning_rate*((y_pred-y)*x)/ len(y)))\n",
    "   m=mp-(alpha*((y_pred-y)*x)/len(y)))\n",
    "   \n",
    "   and for c(interscept)\n",
    "   c=cp-(alpha*((y_pred-y)/len(y)))\n",
    " \n",
    "step5:\n",
    "   repeat these steps untill the below conditions are satisfied\n",
    "   if the m and c values are changing less than 0.01\n",
    "   \n"
   ]
  },
  {
   "cell_type": "code",
   "execution_count": 83,
   "metadata": {},
   "outputs": [
    {
     "data": {
      "text/plain": [
       "array([58, 42, 50, 18, 66, 66, 82, 58, 26, 74, 26, 42, 66, 66, 58, 82, 82,\n",
       "       18, 18, 58, 82, 50, 42, 74, 82, 50, 58, 74, 50, 58, 34, 34, 58, 10,\n",
       "       66, 10, 74, 18, 58, 26])"
      ]
     },
     "execution_count": 83,
     "metadata": {},
     "output_type": "execute_result"
    }
   ],
   "source": [
    "# step1:\n",
    "m=8\n",
    "c=10\n",
    "#step2:\n",
    "y_pred=(m*x)+c\n",
    "y_pred"
   ]
  },
  {
   "cell_type": "code",
   "execution_count": 84,
   "metadata": {},
   "outputs": [
    {
     "data": {
      "text/plain": [
       "[<matplotlib.lines.Line2D at 0x1a75508afd0>]"
      ]
     },
     "execution_count": 84,
     "metadata": {},
     "output_type": "execute_result"
    },
    {
     "data": {
      "image/png": "[encoded data removed]",
      "text/plain": [
       "<Figure size 432x288 with 1 Axes>"
      ]
     },
     "metadata": {
      "needs_background": "light"
     },
     "output_type": "display_data"
    }
   ],
   "source": [
    "plt.plot(x,y)\n",
    "plt.plot(x,y_pred)"
   ]
  },
  {
   "cell_type": "code",
   "execution_count": 85,
   "metadata": {},
   "outputs": [
    {
     "data": {
      "text/plain": [
       "array([441, 225, 324,  36, 576, 576, 900, 441,  81, 729,  81, 225, 576,\n",
       "       576, 441, 900, 900,  36,  36, 441, 900, 324, 225, 729, 900, 324,\n",
       "       441, 729, 324, 441, 144, 144, 441,   9, 576,   9, 729,  36, 441,\n",
       "        81], dtype=int32)"
      ]
     },
     "execution_count": 85,
     "metadata": {},
     "output_type": "execute_result"
    }
   ],
   "source": [
    "#step3:\n",
    "error=((y_pred-y)**2)\n",
    "error"
   ]
  },
  {
   "cell_type": "code",
   "execution_count": 86,
   "metadata": {},
   "outputs": [
    {
     "data": {
      "text/plain": [
       "206.1"
      ]
     },
     "execution_count": 86,
     "metadata": {},
     "output_type": "execute_result"
    }
   ],
   "source": [
    "mse=sum(error)/(2*len(x))\n",
    "mse"
   ]
  },
  {
   "cell_type": "code",
   "execution_count": 94,
   "metadata": {},
   "outputs": [
    {
     "data": {
      "text/plain": [
       "(7.912691646944719, 9.98146780103248)"
      ]
     },
     "execution_count": 94,
     "metadata": {},
     "output_type": "execute_result"
    }
   ],
   "source": [
    "#step4:\n",
    "m=8\n",
    "c=10\n",
    "alpha=0.01\n",
    "def new_m_c(m,c,y_pred,y):\n",
    "    m=m-alpha*(sum((y_pred-y)*x)/len(y))\n",
    "    c=c-(alpha*((sum(y_pred-y))/len(y)))\n",
    "    return(m,c)\n",
    "new_m_c(m,c,y_pred,y)"
   ]
  },
  {
   "cell_type": "code",
   "execution_count": 95,
   "metadata": {},
   "outputs": [],
   "source": [
    "# lets see how much error is reduced for 2 itteration\n",
    "for i in range(2):\n",
    "    y_pred=(m*x)+c\n",
    "    error=(y_pred-y)**2\n",
    "    mse=sum(error)/(2*len(y))\n",
    "    c = new_m_c(m,c,y_pred,y)\n",
    "    m=c[0]\n",
    "    c=c[1]"
   ]
  },
  {
   "cell_type": "code",
   "execution_count": 96,
   "metadata": {},
   "outputs": [
    {
     "data": {
      "text/plain": [
       "[<matplotlib.lines.Line2D at 0x1a7561947b8>]"
      ]
     },
     "execution_count": 96,
     "metadata": {},
     "output_type": "execute_result"
    },
    {
     "data": {
      "image/png": "[encoded data removed]",
      "text/plain": [
       "<Figure size 432x288 with 1 Axes>"
      ]
     },
     "metadata": {
      "needs_background": "light"
     },
     "output_type": "display_data"
    }
   ],
   "source": [
    "plt.plot(x,y_pred)\n",
    "plt.plot(x,y,'bo')"
   ]
  },
  {
   "cell_type": "code",
   "execution_count": 97,
   "metadata": {},
   "outputs": [],
   "source": [
    "# and for 5 itteration lets see how much error is reduced"
   ]
  },
  {
   "cell_type": "code",
   "execution_count": 98,
   "metadata": {},
   "outputs": [],
   "source": [
    "for i in range(5):\n",
    "    y_pred=(m*x)+c\n",
    "    error=(y_pred-y)**2\n",
    "    mse=sum(error)/(2*len(y))\n",
    "    c = new_m_c(m,c,y_pred,y)\n",
    "    m=c[0]\n",
    "    c=c[1]"
   ]
  },
  {
   "cell_type": "code",
   "execution_count": 99,
   "metadata": {},
   "outputs": [
    {
     "data": {
      "text/plain": [
       "[<matplotlib.lines.Line2D at 0x1a7561f35c0>]"
      ]
     },
     "execution_count": 99,
     "metadata": {},
     "output_type": "execute_result"
    },
    {
     "data": {
      "image/png": "[encoded data removed]",
      "text/plain": [
       "<Figure size 432x288 with 1 Axes>"
      ]
     },
     "metadata": {
      "needs_background": "light"
     },
     "output_type": "display_data"
    }
   ],
   "source": [
    "plt.plot(x,y,'bo')\n",
    "plt.plot(x,y_pred)"
   ]
  },
  {
   "cell_type": "code",
   "execution_count": 100,
   "metadata": {},
   "outputs": [],
   "source": [
    "# lets see for 10 itteration how much error between actual line and predicted line is reduced"
   ]
  },
  {
   "cell_type": "code",
   "execution_count": 101,
   "metadata": {},
   "outputs": [],
   "source": [
    "for i in range(10):\n",
    "    y_pred=(m*x)+c\n",
    "    error=(y_pred-y)**2\n",
    "    mse=sum(error)/(2*len(y))\n",
    "    c = new_m_c(m,c,y_pred,y)\n",
    "    m=c[0]\n",
    "    c=c[1]"
   ]
  },
  {
   "cell_type": "code",
   "execution_count": 102,
   "metadata": {},
   "outputs": [
    {
     "data": {
      "text/plain": [
       "[<matplotlib.lines.Line2D at 0x1a7562505f8>]"
      ]
     },
     "execution_count": 102,
     "metadata": {},
     "output_type": "execute_result"
    },
    {
     "data": {
      "image/png": "[encoded data removed]",
      "text/plain": [
       "<Figure size 432x288 with 1 Axes>"
      ]
     },
     "metadata": {
      "needs_background": "light"
     },
     "output_type": "display_data"
    }
   ],
   "source": [
    "plt.plot(x,y,'bo')\n",
    "plt.plot(x,y_pred)"
   ]
  },
  {
   "cell_type": "markdown",
   "metadata": {},
   "source": [
    "## as we can see in the above graph that the error between actual line and predicted line is reduced and the line is also approximately fitted"
   ]
  },
  {
   "cell_type": "code",
   "execution_count": null,
   "metadata": {},
   "outputs": [],
   "source": []
  }
 ],
 "metadata": {
  "kernelspec": {
   "display_name": "Python 3",
   "language": "python",
   "name": "python3"
  },
  "language_info": {
   "codemirror_mode": {
    "name": "ipython",
    "version": 3
   },
   "file_extension": ".py",
   "mimetype": "text/x-python",
   "name": "python",
   "nbconvert_exporter": "python",
   "pygments_lexer": "ipython3",
   "version": "3.7.3"
  }
 },
 "nbformat": 4,
 "nbformat_minor": 2
}
